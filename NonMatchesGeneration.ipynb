{
 "cells": [
  {
   "cell_type": "code",
   "execution_count": null,
   "metadata": {},
   "outputs": [],
   "source": [
    "from goldstandard import *\n",
    "    \n",
    "pos_threshold = 1.1 #consider all positives do not throw away any easy ones: this simulates a perfect blocker\n",
    "neg_threshold = 0.2\n",
    "\n",
    "posnegratio = 10\n",
    "ratioforoneentity = 10\n",
    "\n",
    "directory = \"../datasets/leipzig_datasets/abt_buy\"\n",
    "sourcea = \"1_abt\"\n",
    "sourceb= \"2_buy\"\n",
    "label_attribute = ['title']\n",
    "\n",
    "goldstandard = GoldStandard(pos_threshold,neg_threshold,posnegratio, ratioforoneentity,directory,\n",
    "                                sourcea,sourceb,label_attribute)\n",
    "\n",
    "results = goldstandard.goldStandardCreation(completeGS=False)\n",
    "goldstandard.writeGS()"
   ]
  }
 ],
 "metadata": {
  "kernelspec": {
   "display_name": "Python 3",
   "language": "python",
   "name": "python3"
  },
  "language_info": {
   "codemirror_mode": {
    "name": "ipython",
    "version": 3
   },
   "file_extension": ".py",
   "mimetype": "text/x-python",
   "name": "python",
   "nbconvert_exporter": "python",
   "pygments_lexer": "ipython3",
   "version": "3.7.1"
  }
 },
 "nbformat": 4,
 "nbformat_minor": 4
}
